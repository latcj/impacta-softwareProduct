{
 "cells": [
  {
   "cell_type": "code",
   "execution_count": 13,
   "id": "81a75cb4",
   "metadata": {},
   "outputs": [],
   "source": [
    "import scrapy as sc\n",
    "import pandas\n",
    "import xlsxwriter"
   ]
  },
  {
   "cell_type": "code",
   "execution_count": 7,
   "id": "3982126f",
   "metadata": {},
   "outputs": [
    {
     "ename": "NameError",
     "evalue": "name 'bpython' is not defined",
     "output_type": "error",
     "traceback": [
      "\u001b[1;31m---------------------------------------------------------------------------\u001b[0m",
      "\u001b[1;31mNameError\u001b[0m                                 Traceback (most recent call last)",
      "Cell \u001b[1;32mIn[7], line 1\u001b[0m\n\u001b[1;32m----> 1\u001b[0m shell \u001b[38;5;241m=\u001b[39m bpython\n",
      "\u001b[1;31mNameError\u001b[0m: name 'bpython' is not defined"
     ]
    }
   ],
   "source": [
    "class csvSpider(scrapy.Spider):\n",
    "    name = 'csv'\n",
    "    start_urls = ['https://www.gov.br/anp/pt-br/centrais-de-conteudo/dados-abertos/serie-historica-de-precos-de-combustiveis']\n",
    "\n",
    "    def parse(self, response):\n",
    "        for arquivo in response.xpath(\"*//div[@id='parent-fieldname-text']/ul/li/a\"):\n",
    "            title = csvFile.xpath('.//text()').get()\n",
    "            link = response.urljoin(\n",
    "                csvFile.xpath('.//@href').get()\n",
    "            )\n",
    "            yield {\n",
    "                'Title':title,\n",
    "                'file_urls':[link]\n",
    "            }"
   ]
  },
  {
   "cell_type": "code",
   "execution_count": 14,
   "id": "09ffaf4f",
   "metadata": {},
   "outputs": [
    {
     "ename": "AttributeError",
     "evalue": "module 'scrapy' has no attribute 'response'",
     "output_type": "error",
     "traceback": [
      "\u001b[1;31m---------------------------------------------------------------------------\u001b[0m",
      "\u001b[1;31mAttributeError\u001b[0m                            Traceback (most recent call last)",
      "Cell \u001b[1;32mIn[14], line 1\u001b[0m\n\u001b[1;32m----> 1\u001b[0m sc\u001b[38;5;241m.\u001b[39mresponse\u001b[38;5;241m.\u001b[39mxpath(\u001b[38;5;124m\"\u001b[39m\u001b[38;5;124m*//div[@id=\u001b[39m\u001b[38;5;124m'\u001b[39m\u001b[38;5;124mparent-fieldname-text\u001b[39m\u001b[38;5;124m'\u001b[39m\u001b[38;5;124m]/ul/li/a/\u001b[39m\u001b[38;5;124m\"\u001b[39m)\n",
      "\u001b[1;31mAttributeError\u001b[0m: module 'scrapy' has no attribute 'response'"
     ]
    }
   ],
   "source": [
    "sc.response.xpath(\"*//div[@id='parent-fieldname-text']/ul/li/a/\")"
   ]
  },
  {
   "cell_type": "code",
   "execution_count": 8,
   "id": "3c11976a",
   "metadata": {},
   "outputs": [
    {
     "ename": "NameError",
     "evalue": "name 'response' is not defined",
     "output_type": "error",
     "traceback": [
      "\u001b[1;31m---------------------------------------------------------------------------\u001b[0m",
      "\u001b[1;31mNameError\u001b[0m                                 Traceback (most recent call last)",
      "Cell \u001b[1;32mIn[8], line 1\u001b[0m\n\u001b[1;32m----> 1\u001b[0m response\u001b[38;5;241m.\u001b[39mcss(\u001b[38;5;124m'\u001b[39m\u001b[38;5;124m.col\u001b[39m\u001b[38;5;124m'\u001b[39m)\n",
      "\u001b[1;31mNameError\u001b[0m: name 'response' is not defined"
     ]
    }
   ],
   "source": [
    "response.css('.col')"
   ]
  },
  {
   "cell_type": "code",
   "execution_count": 6,
   "id": "4befa8c6",
   "metadata": {},
   "outputs": [
    {
     "ename": "SyntaxError",
     "evalue": "invalid syntax (2300270665.py, line 1)",
     "output_type": "error",
     "traceback": [
      "\u001b[1;36m  Cell \u001b[1;32mIn[6], line 1\u001b[1;36m\u001b[0m\n\u001b[1;33m    scrapy shell 'https://www.gov.br/anp/pt-br/centrais-de-conteudo/dados-abertos/serie-historica-de-precos-de-combustiveis'\u001b[0m\n\u001b[1;37m           ^\u001b[0m\n\u001b[1;31mSyntaxError\u001b[0m\u001b[1;31m:\u001b[0m invalid syntax\n"
     ]
    }
   ],
   "source": [
    "scrapy shell 'https://www.gov.br/anp/pt-br/centrais-de-conteudo/dados-abertos/serie-historica-de-precos-de-combustiveis'"
   ]
  }
 ],
 "metadata": {
  "kernelspec": {
   "display_name": "Python 3 (ipykernel)",
   "language": "python",
   "name": "python3"
  },
  "language_info": {
   "codemirror_mode": {
    "name": "ipython",
    "version": 3
   },
   "file_extension": ".py",
   "mimetype": "text/x-python",
   "name": "python",
   "nbconvert_exporter": "python",
   "pygments_lexer": "ipython3",
   "version": "3.11.4"
  }
 },
 "nbformat": 4,
 "nbformat_minor": 5
}
